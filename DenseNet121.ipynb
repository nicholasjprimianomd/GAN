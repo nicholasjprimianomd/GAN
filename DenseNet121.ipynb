{
 "cells": [
  {
   "cell_type": "code",
   "execution_count": 1,
   "metadata": {},
   "outputs": [],
   "source": [
    "import numpy as np # linear algebra\n",
    "import pandas as pd # data processing, CSV file I/O (e.g. pd.read_csv)\n",
    "import matplotlib.pyplot as plt\n",
    "import seaborn as sns\n",
    "from glob import glob\n",
    "import os\n",
    "import matplotlib.gridspec as gridspec\n",
    "import matplotlib.ticker as ticker\n",
    "sns.set_style('whitegrid')\n",
    "%matplotlib inline\n",
    "import warnings\n",
    "warnings.filterwarnings('ignore')\n",
    "from keras.layers import Input\n",
    "from keras.models import Model\n",
    "from keras.layers import Dense\n",
    "#\n",
    "#from keras.optimizers import Adam\n",
    "#from generator import DataGenerator\n",
    "import keras\n",
    "import numpy as np # linear algebra\n",
    "import pandas as pd # data processing, CSV file I/O (e.g. pd.read_csv)\n",
    "import matplotlib.pyplot as plt # basic plotting\n",
    "import seaborn as sns # additional plotting functionality\n",
    "import cv2\n",
    "import os\n",
    "\n",
    "from sklearn.metrics import confusion_matrix\n",
    "from sklearn.metrics import roc_curve, auc\n",
    "from sklearn.utils import class_weight\n",
    "import seaborn as sn"
   ]
  },
  {
   "cell_type": "code",
   "execution_count": 2,
   "metadata": {},
   "outputs": [],
   "source": [
    "train_dir = os.path.abspath(r\"C:/ML_C/CheXpert/CheXpert-Keras-master/data/default_split/CheXpert-v1.0-small/CheXpert-v1.0-small/train.csv\")\n",
    "traindf=pd.read_csv(train_dir, dtype=str)\n",
    "\n",
    "valid_dir = os.path.abspath(r\"C:/ML_C/CheXpert/CheXpert-Keras-master/data/default_split/CheXpert-v1.0-small/CheXpert-v1.0-small/valid.csv\")\n",
    "validdf=pd.read_csv(valid_dir, dtype=str)\n",
    "\n",
    "for i in range(len(traindf)):\n",
    "    traindf.iloc[i,0] = r\"C:/ML_C/CheXpert/CheXpert-Keras-master/data/default_split/CheXpert-v1.0-small/\" + traindf.iloc[i,0]\n",
    "\n",
    "for i in range(len(validdf)):\n",
    "    validdf.iloc[i,0] = r\"C:/ML_C/CheXpert/CheXpert-Keras-master/data/default_split/CheXpert-v1.0-small/\" + validdf.iloc[i,0]"
   ]
  },
  {
   "cell_type": "code",
   "execution_count": 3,
   "metadata": {},
   "outputs": [
    {
     "data": {
      "text/plain": [
       "'paths = []\\nfor i in range(len(aptraindf[aptraindf[\"Pneumonia\"] == \"1.0\"][\"Path\"])):\\n    paths.append(aptraindf[aptraindf[\"Pneumonia\"] == \"1.0\"][\"Path\"].iloc[i])'"
      ]
     },
     "execution_count": 3,
     "metadata": {},
     "output_type": "execute_result"
    }
   ],
   "source": [
    "\"\"\"paths = []\n",
    "for i in range(len(aptraindf[aptraindf[\"Pneumonia\"] == \"1.0\"][\"Path\"])):\n",
    "    paths.append(aptraindf[aptraindf[\"Pneumonia\"] == \"1.0\"][\"Path\"].iloc[i])\"\"\""
   ]
  },
  {
   "cell_type": "code",
   "execution_count": 4,
   "metadata": {},
   "outputs": [
    {
     "data": {
      "text/plain": [
       "\"X_train = np.array(get_imgs(paths))\\ntrain_images = X_train.reshape(X_train.shape[0], IMG_SIZE, IMG_SIZE, 1).astype('float32')\\ntrain_images = (train_images - 127.5) / 127.5  # Normalize the images to [-1, 1]\""
      ]
     },
     "execution_count": 4,
     "metadata": {},
     "output_type": "execute_result"
    }
   ],
   "source": [
    "\"\"\"X_train = np.array(get_imgs(paths))\n",
    "train_images = X_train.reshape(X_train.shape[0], IMG_SIZE, IMG_SIZE, 1).astype('float32')\n",
    "train_images = (train_images - 127.5) / 127.5  # Normalize the images to [-1, 1]\"\"\""
   ]
  },
  {
   "cell_type": "code",
   "execution_count": 5,
   "metadata": {},
   "outputs": [
    {
     "data": {
      "text/plain": [
       "'IMG_SIZE = 256\\ndef get_imgs(paths):\\n    images = []\\n    for i in paths:\\n        #images.append(cv2.resize(cv2.imread(i),(IMG_SIZE,IMG_SIZE))) \\n        images.append(cv2.cvtColor(cv2.resize(cv2.imread(i),(IMG_SIZE,IMG_SIZE)), cv2.COLOR_BGR2GRAY))\\n    return images '"
      ]
     },
     "execution_count": 5,
     "metadata": {},
     "output_type": "execute_result"
    }
   ],
   "source": [
    "\"\"\"IMG_SIZE = 256\n",
    "def get_imgs(paths):\n",
    "    images = []\n",
    "    for i in paths:\n",
    "        #images.append(cv2.resize(cv2.imread(i),(IMG_SIZE,IMG_SIZE))) \n",
    "        images.append(cv2.cvtColor(cv2.resize(cv2.imread(i),(IMG_SIZE,IMG_SIZE)), cv2.COLOR_BGR2GRAY))\n",
    "    return images \"\"\""
   ]
  },
  {
   "cell_type": "code",
   "execution_count": 6,
   "metadata": {},
   "outputs": [],
   "source": [
    "aptrainlist = []\n",
    "for i in range(int(0.95*(len(traindf)))):\n",
    "    if (traindf.iloc[i,4] == \"AP\"):\n",
    "        aptrainlist.append(traindf.iloc[i,:])\n",
    "\n",
    "aptraindf = pd.DataFrame(aptrainlist)"
   ]
  },
  {
   "cell_type": "code",
   "execution_count": 7,
   "metadata": {},
   "outputs": [],
   "source": [
    "apvalidlist = []\n",
    "for i in range(int(0.95*(len(traindf))),len(traindf)):\n",
    "    if (traindf.iloc[i,4] == \"AP\"):\n",
    "        apvalidlist.append(traindf.iloc[i,:])\n",
    "\n",
    "apvaliddf = pd.DataFrame(apvalidlist)"
   ]
  },
  {
   "cell_type": "code",
   "execution_count": 8,
   "metadata": {},
   "outputs": [],
   "source": [
    "from keras.applications.densenet import DenseNet121, preprocess_input\n",
    "from keras.preprocessing.image import ImageDataGenerator\n",
    "from PIL import Image\n",
    "\n",
    "IMG_SIZE = (256, 256) # slightly smaller than vgg16 normally expects\n",
    "datagen = ImageDataGenerator()"
   ]
  },
  {
   "cell_type": "code",
   "execution_count": 9,
   "metadata": {},
   "outputs": [],
   "source": [
    "aptraindf[\"Pneumonia\"] = aptraindf[\"Pneumonia\"].replace(np.nan, 0)\n",
    "aptraindf[\"Pneumonia\"] = aptraindf[\"Pneumonia\"].replace(\"-1.0\", 0)\n",
    "aptraindf[\"Pneumonia\"] = aptraindf[\"Pneumonia\"].replace(\"0.0\", 0)\n",
    "aptraindf[\"Pneumonia\"] = aptraindf[\"Pneumonia\"].replace(\"1.0\", 1)\n",
    "aptraindf[\"Pneumonia\"] = aptraindf[\"Pneumonia\"].apply(str)"
   ]
  },
  {
   "cell_type": "code",
   "execution_count": 10,
   "metadata": {},
   "outputs": [],
   "source": [
    "apvaliddf[\"Pneumonia\"] = apvaliddf[\"Pneumonia\"].replace(np.nan, 0)\n",
    "apvaliddf[\"Pneumonia\"] = apvaliddf[\"Pneumonia\"].replace(\"-1.0\", 0)\n",
    "apvaliddf[\"Pneumonia\"] = apvaliddf[\"Pneumonia\"].replace(\"0.0\", 0)\n",
    "apvaliddf[\"Pneumonia\"] = apvaliddf[\"Pneumonia\"].replace(\"1.0\", 1)\n",
    "apvaliddf[\"Pneumonia\"] = apvaliddf[\"Pneumonia\"].apply(str)"
   ]
  },
  {
   "cell_type": "code",
   "execution_count": 11,
   "metadata": {},
   "outputs": [
    {
     "name": "stdout",
     "output_type": "stream",
     "text": [
      "Found 10619 validated image filenames belonging to 2 classes.\n"
     ]
    }
   ],
   "source": [
    "valid_generator=datagen.flow_from_dataframe(\n",
    "    dataframe=apvaliddf,\n",
    "    x_col=\"Path\",\n",
    "    y_col=\"Pneumonia\",\n",
    "    #subset=\"validation\",\n",
    "    batch_size=32,\n",
    "    seed=42,\n",
    "    shuffle=True,\n",
    "    class_mode=\"binary\",\n",
    "    target_size=(256,256))"
   ]
  },
  {
   "cell_type": "code",
   "execution_count": 12,
   "metadata": {},
   "outputs": [
    {
     "name": "stdout",
     "output_type": "stream",
     "text": [
      "Found 10619 validated image filenames belonging to 2 classes.\n"
     ]
    }
   ],
   "source": [
    "test_X, test_Y = next(datagen.flow_from_dataframe(\n",
    "    dataframe=apvaliddf,\n",
    "    x_col=\"Path\",\n",
    "    y_col=\"Pneumonia\",\n",
    "    batch_size = 8000,\n",
    "    seed=42,\n",
    "    shuffle=True,\n",
    "    class_mode=\"binary\",\n",
    "    target_size=(256,256)))"
   ]
  },
  {
   "cell_type": "code",
   "execution_count": 13,
   "metadata": {},
   "outputs": [
    {
     "name": "stdout",
     "output_type": "stream",
     "text": [
      "Found 150971 validated image filenames belonging to 2 classes.\n"
     ]
    }
   ],
   "source": [
    "train_generator=datagen.flow_from_dataframe(\n",
    "    dataframe=aptraindf,\n",
    "    x_col=\"Path\",\n",
    "    y_col=\"Pneumonia\",\n",
    "    subset=\"training\",\n",
    "    batch_size=32,\n",
    "    seed=42,\n",
    "    shuffle=True,\n",
    "    class_mode=\"binary\",\n",
    "    target_size=(256,256))"
   ]
  },
  {
   "cell_type": "code",
   "execution_count": 14,
   "metadata": {},
   "outputs": [],
   "source": [
    "t_x, t_y = next(train_generator)"
   ]
  },
  {
   "cell_type": "code",
   "execution_count": 15,
   "metadata": {},
   "outputs": [
    {
     "name": "stdout",
     "output_type": "stream",
     "text": [
      "Counter({0: 147742, 1: 3229})\n"
     ]
    }
   ],
   "source": [
    "from collections import Counter\n",
    "training_data_classes = Counter(train_generator.classes)\n",
    "num_no_findings_class = training_data_classes[1] \n",
    "num_findings_class = training_data_classes[0]\n",
    "\n",
    "print(training_data_classes)\n",
    "\n",
    "class_weights = [num_findings_class/num_no_findings_class,0.5]\n",
    "\n",
    "class_weights_dict = {0: class_weights[0], 1: class_weights[1]}"
   ]
  },
  {
   "cell_type": "code",
   "execution_count": 16,
   "metadata": {},
   "outputs": [
    {
     "name": "stdout",
     "output_type": "stream",
     "text": [
      "Downloading data from https://storage.googleapis.com/tensorflow/keras-applications/densenet/densenet121_weights_tf_dim_ordering_tf_kernels_notop.h5\n",
      "29089792/29084464 [==============================] - 1s 0us/step\n",
      "29097984/29084464 [==============================] - 1s 0us/step\n"
     ]
    }
   ],
   "source": [
    "# dense net model\n",
    "img_in = Input(t_x.shape[1:])              #input of model \n",
    "model = DenseNet121(include_top= False , # remove  the 3 fully-connected layers at the top of the network\n",
    "                weights='imagenet',      # pre train weight \n",
    "                input_tensor= img_in, \n",
    "                input_shape= t_x.shape[1:],\n",
    "                pooling ='avg') \n",
    "\n",
    "x = model.output  \n",
    "predictions = Dense(1, activation=\"sigmoid\", name=\"predictions\")(x)    # fuly connected layer for predict class \n",
    "model = Model(inputs=img_in, outputs=predictions)"
   ]
  },
  {
   "cell_type": "code",
   "execution_count": 17,
   "metadata": {},
   "outputs": [],
   "source": [
    "#########################################\n",
    "import tensorflow as tf\n",
    "#loaded_model = tf.keras.models.load_model('../input/nih-cxr-weight0102414/weights.best.01-0.24.hdf5')"
   ]
  },
  {
   "cell_type": "code",
   "execution_count": 18,
   "metadata": {},
   "outputs": [],
   "source": [
    "import tensorflow as tf\n",
    "optimizer = tf.keras.optimizers.Adam(lr=0.001)\n",
    "\n",
    "model.compile(optimizer=optimizer, loss=\"binary_crossentropy\", metrics=[keras.metrics.binary_accuracy])\n",
    "\n",
    "#model.load_weights('../input/chestxray8-dataframe/pretrained_model.h5')"
   ]
  },
  {
   "cell_type": "code",
   "execution_count": 19,
   "metadata": {},
   "outputs": [],
   "source": [
    "# set up a checkpoint for model training\n",
    "# https://keras.io/callbacks/\n",
    "from keras.callbacks import ModelCheckpoint\n",
    "\n",
    "checkpointer = ModelCheckpoint(filepath='weights.best.{epoch:02d}-{val_loss:.2f}.hdf5', verbose=1, save_best_only = True)\n",
    "callbacks_list = [checkpointer]"
   ]
  },
  {
   "cell_type": "code",
   "execution_count": 20,
   "metadata": {},
   "outputs": [
    {
     "name": "stdout",
     "output_type": "stream",
     "text": [
      "Epoch 1/25\n",
      "100/100 [==============================] - ETA: 0s - loss: 0.6208 - binary_accuracy: 0.9759\n",
      "Epoch 00001: val_loss improved from inf to 0.00193, saving model to weights.best.01-0.00.hdf5\n",
      "100/100 [==============================] - 26s 152ms/step - loss: 0.6208 - binary_accuracy: 0.9759 - val_loss: 0.0019 - val_binary_accuracy: 1.0000\n",
      "Epoch 2/25\n",
      "100/100 [==============================] - ETA: 0s - loss: 0.1088 - binary_accuracy: 0.9766\n",
      "Epoch 00002: val_loss did not improve from 0.00193\n",
      "100/100 [==============================] - 14s 139ms/step - loss: 0.1088 - binary_accuracy: 0.9766 - val_loss: 0.2515 - val_binary_accuracy: 0.9688\n",
      "Epoch 3/25\n",
      "100/100 [==============================] - ETA: 0s - loss: 0.1014 - binary_accuracy: 0.9787\n",
      "Epoch 00003: val_loss did not improve from 0.00193\n",
      "100/100 [==============================] - 15s 148ms/step - loss: 0.1014 - binary_accuracy: 0.9787 - val_loss: 0.2254 - val_binary_accuracy: 0.9688\n",
      "Epoch 4/25\n",
      "100/100 [==============================] - ETA: 0s - loss: 0.0912 - binary_accuracy: 0.9809\n",
      "Epoch 00004: val_loss improved from 0.00193 to 0.00028, saving model to weights.best.04-0.00.hdf5\n",
      "100/100 [==============================] - 14s 144ms/step - loss: 0.0912 - binary_accuracy: 0.9809 - val_loss: 2.8339e-04 - val_binary_accuracy: 1.0000\n",
      "Epoch 5/25\n",
      "100/100 [==============================] - ETA: 0s - loss: 0.1075 - binary_accuracy: 0.9769\n",
      "Epoch 00005: val_loss did not improve from 0.00028\n",
      "100/100 [==============================] - 14s 138ms/step - loss: 0.1075 - binary_accuracy: 0.9769 - val_loss: 0.2175 - val_binary_accuracy: 0.9688\n",
      "Epoch 6/25\n",
      "100/100 [==============================] - ETA: 0s - loss: 0.0896 - binary_accuracy: 0.9809\n",
      "Epoch 00006: val_loss did not improve from 0.00028\n",
      "100/100 [==============================] - 14s 141ms/step - loss: 0.0896 - binary_accuracy: 0.9809 - val_loss: 0.6090 - val_binary_accuracy: 0.9375\n",
      "Epoch 7/25\n",
      "100/100 [==============================] - ETA: 0s - loss: 0.1132 - binary_accuracy: 0.9756\n",
      "Epoch 00007: val_loss improved from 0.00028 to 0.00026, saving model to weights.best.07-0.00.hdf5\n",
      "100/100 [==============================] - 15s 148ms/step - loss: 0.1132 - binary_accuracy: 0.9756 - val_loss: 2.5733e-04 - val_binary_accuracy: 1.0000\n",
      "Epoch 8/25\n",
      "100/100 [==============================] - ETA: 0s - loss: 0.0908 - binary_accuracy: 0.9806\n",
      "Epoch 00008: val_loss did not improve from 0.00026\n",
      "100/100 [==============================] - 14s 141ms/step - loss: 0.0908 - binary_accuracy: 0.9806 - val_loss: 0.2821 - val_binary_accuracy: 0.9688\n",
      "Epoch 9/25\n",
      "100/100 [==============================] - ETA: 0s - loss: 0.0976 - binary_accuracy: 0.9787\n",
      "Epoch 00009: val_loss did not improve from 0.00026\n",
      "100/100 [==============================] - 14s 138ms/step - loss: 0.0976 - binary_accuracy: 0.9787 - val_loss: 0.2349 - val_binary_accuracy: 0.9688\n",
      "Epoch 10/25\n",
      "100/100 [==============================] - ETA: 0s - loss: 0.1024 - binary_accuracy: 0.9781\n",
      "Epoch 00010: val_loss improved from 0.00026 to 0.00025, saving model to weights.best.10-0.00.hdf5\n",
      "100/100 [==============================] - 15s 145ms/step - loss: 0.1024 - binary_accuracy: 0.9781 - val_loss: 2.5464e-04 - val_binary_accuracy: 1.0000\n",
      "Epoch 11/25\n",
      "100/100 [==============================] - ETA: 0s - loss: 0.1147 - binary_accuracy: 0.9750\n",
      "Epoch 00011: val_loss improved from 0.00025 to 0.00011, saving model to weights.best.11-0.00.hdf5\n",
      "100/100 [==============================] - 14s 137ms/step - loss: 0.1147 - binary_accuracy: 0.9750 - val_loss: 1.1072e-04 - val_binary_accuracy: 1.0000\n",
      "Epoch 12/25\n",
      "100/100 [==============================] - ETA: 0s - loss: 0.0915 - binary_accuracy: 0.9803\n",
      "Epoch 00012: val_loss did not improve from 0.00011\n",
      "100/100 [==============================] - 13s 131ms/step - loss: 0.0915 - binary_accuracy: 0.9803 - val_loss: 0.5210 - val_binary_accuracy: 0.9375\n",
      "Epoch 13/25\n",
      "100/100 [==============================] - ETA: 0s - loss: 0.0925 - binary_accuracy: 0.9797\n",
      "Epoch 00013: val_loss did not improve from 0.00011\n",
      "100/100 [==============================] - 13s 131ms/step - loss: 0.0925 - binary_accuracy: 0.9797 - val_loss: 0.2822 - val_binary_accuracy: 0.9688\n",
      "Epoch 14/25\n",
      "100/100 [==============================] - ETA: 0s - loss: 0.0863 - binary_accuracy: 0.9816\n",
      "Epoch 00014: val_loss did not improve from 0.00011\n",
      "100/100 [==============================] - 13s 131ms/step - loss: 0.0863 - binary_accuracy: 0.9816 - val_loss: 2.5089e-04 - val_binary_accuracy: 1.0000\n",
      "Epoch 15/25\n",
      "100/100 [==============================] - ETA: 0s - loss: 0.1069 - binary_accuracy: 0.9769\n",
      "Epoch 00015: val_loss did not improve from 0.00011\n",
      "100/100 [==============================] - 13s 131ms/step - loss: 0.1069 - binary_accuracy: 0.9769 - val_loss: 1.4778e-04 - val_binary_accuracy: 1.0000\n",
      "Epoch 16/25\n",
      "100/100 [==============================] - ETA: 0s - loss: 0.1003 - binary_accuracy: 0.9784\n",
      "Epoch 00016: val_loss did not improve from 0.00011\n",
      "100/100 [==============================] - 13s 131ms/step - loss: 0.1003 - binary_accuracy: 0.9784 - val_loss: 2.2998e-04 - val_binary_accuracy: 1.0000\n",
      "Epoch 17/25\n",
      "100/100 [==============================] - ETA: 0s - loss: 0.0861 - binary_accuracy: 0.9819\n",
      "Epoch 00017: val_loss did not improve from 0.00011\n",
      "100/100 [==============================] - 13s 131ms/step - loss: 0.0861 - binary_accuracy: 0.9819 - val_loss: 0.2925 - val_binary_accuracy: 0.9688\n",
      "Epoch 18/25\n",
      "100/100 [==============================] - ETA: 0s - loss: 0.0917 - binary_accuracy: 0.9803\n",
      "Epoch 00018: val_loss did not improve from 0.00011\n",
      "100/100 [==============================] - 13s 131ms/step - loss: 0.0917 - binary_accuracy: 0.9803 - val_loss: 4.0342e-04 - val_binary_accuracy: 1.0000\n",
      "Epoch 19/25\n",
      "100/100 [==============================] - ETA: 0s - loss: 0.0952 - binary_accuracy: 0.9794\n",
      "Epoch 00019: val_loss did not improve from 0.00011\n",
      "100/100 [==============================] - 13s 131ms/step - loss: 0.0952 - binary_accuracy: 0.9794 - val_loss: 3.8271e-04 - val_binary_accuracy: 1.0000\n",
      "Epoch 20/25\n",
      "100/100 [==============================] - ETA: 0s - loss: 0.1057 - binary_accuracy: 0.9769\n",
      "Epoch 00020: val_loss did not improve from 0.00011\n",
      "100/100 [==============================] - 13s 131ms/step - loss: 0.1057 - binary_accuracy: 0.9769 - val_loss: 3.3699e-04 - val_binary_accuracy: 1.0000\n",
      "Epoch 21/25\n",
      "100/100 [==============================] - ETA: 0s - loss: 0.0860 - binary_accuracy: 0.9819\n",
      "Epoch 00021: val_loss did not improve from 0.00011\n",
      "100/100 [==============================] - 13s 131ms/step - loss: 0.0860 - binary_accuracy: 0.9819 - val_loss: 0.3222 - val_binary_accuracy: 0.9688\n",
      "Epoch 22/25\n",
      "100/100 [==============================] - ETA: 0s - loss: 0.1001 - binary_accuracy: 0.9781\n",
      "Epoch 00022: val_loss did not improve from 0.00011\n",
      "100/100 [==============================] - 13s 131ms/step - loss: 0.1001 - binary_accuracy: 0.9781 - val_loss: 4.0337e-04 - val_binary_accuracy: 1.0000\n",
      "Epoch 23/25\n",
      "100/100 [==============================] - ETA: 0s - loss: 0.1115 - binary_accuracy: 0.9756\n",
      "Epoch 00023: val_loss did not improve from 0.00011\n",
      "100/100 [==============================] - 13s 131ms/step - loss: 0.1115 - binary_accuracy: 0.9756 - val_loss: 0.3129 - val_binary_accuracy: 0.9688\n",
      "Epoch 24/25\n",
      "100/100 [==============================] - ETA: 0s - loss: 0.0917 - binary_accuracy: 0.9803\n",
      "Epoch 00024: val_loss did not improve from 0.00011\n",
      "100/100 [==============================] - 13s 131ms/step - loss: 0.0917 - binary_accuracy: 0.9803 - val_loss: 0.2978 - val_binary_accuracy: 0.9688\n",
      "Epoch 25/25\n",
      "100/100 [==============================] - ETA: 0s - loss: 0.0963 - binary_accuracy: 0.9794\n",
      "Epoch 00025: val_loss did not improve from 0.00011\n",
      "100/100 [==============================] - 13s 131ms/step - loss: 0.0963 - binary_accuracy: 0.9794 - val_loss: 1.1935e-04 - val_binary_accuracy: 1.0000\n"
     ]
    }
   ],
   "source": [
    "history = model.fit(train_generator, \n",
    "                                  steps_per_epoch=100,\n",
    "                                  validation_steps=1,\n",
    "                                  validation_data=valid_generator, \n",
    "                                  epochs = 25 , callbacks = callbacks_list, class_weight=class_weights_dict)"
   ]
  },
  {
   "cell_type": "code",
   "execution_count": 21,
   "metadata": {},
   "outputs": [
    {
     "name": "stdout",
     "output_type": "stream",
     "text": [
      "250/250 [==============================] - 10s 35ms/step\n"
     ]
    },
    {
     "data": {
      "image/png": "[encoded data removed]",
      "text/plain": [
       "<Figure size 648x648 with 1 Axes>"
      ]
     },
     "metadata": {
      "needs_background": "light"
     },
     "output_type": "display_data"
    }
   ],
   "source": [
    "pred_Y = model.predict(test_X, batch_size = 32, verbose = True)\n",
    "\n",
    "fig, c_ax = plt.subplots(1,1, figsize = (9, 9))\n",
    "fpr, tpr, thresholds = roc_curve(test_Y[:].astype(int), pred_Y[:])\n",
    "c_ax.plot(fpr, tpr, label = '(AUC:%0.2f)'  % (auc(fpr, tpr)))\n",
    "\n",
    "c_ax.legend()\n",
    "c_ax.set_xlabel('False Positive Rate')\n",
    "c_ax.set_ylabel('True Positive Rate')\n",
    "fig.savefig('trained_net.png')"
   ]
  },
  {
   "cell_type": "code",
   "execution_count": 22,
   "metadata": {},
   "outputs": [
    {
     "data": {
      "image/png": "[encoded data removed]",
      "text/plain": [
       "<Figure size 432x288 with 1 Axes>"
      ]
     },
     "metadata": {
      "needs_background": "light"
     },
     "output_type": "display_data"
    }
   ],
   "source": [
    "pred_Y_binary = []\n",
    "\n",
    "for i in range(len(pred_Y)):\n",
    "    if pred_Y[i] <= 0.5:\n",
    "        pred_Y_binary.append(0)\n",
    "    else:\n",
    "        pred_Y_binary.append(1)\n",
    "        \n",
    "all_labels = [\"No penuo\", \"Penuo\"]\n",
    "\n",
    "confusion_array = confusion_matrix(test_Y, pred_Y_binary)\n",
    "\n",
    "df_cm = pd.DataFrame(confusion_array, \n",
    "                    index = [i for i in all_labels],\n",
    "                  columns = [i for i in all_labels ])\n",
    "\n",
    "ax = plt.axes()\n",
    "sn.heatmap(df_cm, annot=True, fmt=\"d\", ax = ax, cbar=False)\n",
    "\n",
    "ax.set_title('Confusion Matrix')\n",
    "ax.set_xlabel(\"Predictions\")\n",
    "ax.set_ylabel(\"True Lables\")\n",
    "\n",
    "plt.show()"
   ]
  },
  {
   "cell_type": "code",
   "execution_count": null,
   "metadata": {},
   "outputs": [],
   "source": []
  }
 ],
 "metadata": {
  "interpreter": {
   "hash": "1696fff12340fbeacd8891884860ba5d4999e3a236c837e4d2afed27776e33eb"
  },
  "kernelspec": {
   "display_name": "Python 3.9.9 64-bit",
   "language": "python",
   "name": "python3"
  },
  "language_info": {
   "codemirror_mode": {
    "name": "ipython",
    "version": 3
   },
   "file_extension": ".py",
   "mimetype": "text/x-python",
   "name": "python",
   "nbconvert_exporter": "python",
   "pygments_lexer": "ipython3",
   "version": "3.9.9"
  },
  "orig_nbformat": 4
 },
 "nbformat": 4,
 "nbformat_minor": 2
}
