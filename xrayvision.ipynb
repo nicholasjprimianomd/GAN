{
 "cells": [
  {
   "cell_type": "code",
   "execution_count": null,
   "metadata": {},
   "outputs": [],
   "source": [
    "import torchxrayvision as xrv\n",
    "import torchvision\n",
    "import torch \n",
    "import skimage\n",
    "import os,sys\n",
    "sys.path.insert(0,\"..\")\n",
    "from glob import glob\n",
    "import matplotlib.pyplot as plt\n",
    "import numpy as np\n",
    "import torch.nn.functional as F"
   ]
  },
  {
   "cell_type": "code",
   "execution_count": null,
   "metadata": {},
   "outputs": [],
   "source": [
    "pathologies = [  'Atelectasis', 'Consolidation', 'Infiltration', 'Pneumothorax', 'Edema', 'Emphysema',\n",
    "                 'Fibrosis', 'Effusion', 'Pneumonia', 'Pleural_Thickening', 'Cardiomegaly', 'Nodule',\n",
    "                 'Mass', 'Hernia', 'Lung Lesion', 'Fracture','Lung Opacity','Enlarged Cardiomediastinum'\n",
    "                ]"
   ]
  },
  {
   "cell_type": "code",
   "execution_count": null,
   "metadata": {},
   "outputs": [],
   "source": [
    "data_transforms = torchvision.transforms.Compose([\n",
    "        xrv.datasets.ToPILImage(),\n",
    "        torchvision.transforms.RandomAffine(45, translate=(0.15, 0.15), scale=(0.85, 1.15)),\n",
    "        torchvision.transforms.ToTensor(),xrv.datasets.XRayResizer(224)\n",
    "    ])"
   ]
  },
  {
   "cell_type": "code",
   "execution_count": null,
   "metadata": {},
   "outputs": [],
   "source": [
    "d_nih = xrv.datasets.NIH_Dataset(imgpath=\"C:\\ML_C\\CXR8\\images\",\n",
    "                                 views=[\"PA\",\"AP\"], unique_patients=False, transform=data_transforms)"
   ]
  },
  {
   "cell_type": "code",
   "execution_count": null,
   "metadata": {},
   "outputs": [],
   "source": [
    "d_chex = xrv.datasets.CheX_Dataset(imgpath=\"C:/ML_C/CheXpert/CheXpert-Keras-master/data/default_split/CheXpert-v1.0-small/CheXpert-v1.0-small\",\n",
    "                                   csvpath=\"C:/ML_C/CheXpert/CheXpert-Keras-master/data/default_split/CheXpert-v1.0-small/CheXpert-v1.0-small/train.csv\",\n",
    "                                 views=[\"PA\",\"AP\"], unique_patients=False, transform=data_transforms)"
   ]
  },
  {
   "cell_type": "code",
   "execution_count": null,
   "metadata": {},
   "outputs": [],
   "source": [
    "print(d_nih.__class__)\n",
    "xrv.datasets.relabel_dataset(pathologies, d_nih)\n",
    "print(d_chex.__class__)\n",
    "xrv.datasets.relabel_dataset(pathologies, d_chex)\n",
    "dd = xrv.datasets.Merge_Dataset([d_nih, d_chex])"
   ]
  },
  {
   "cell_type": "code",
   "execution_count": null,
   "metadata": {},
   "outputs": [],
   "source": [
    "# Use XRV transforms to crop and resize the images\n",
    "transforms = torchvision.transforms.Compose([xrv.datasets.XRayCenterCrop(),\n",
    "xrv.datasets.XRayResizer(224)])\n",
    "\n",
    "# Load Google dataset and PyTorch dataloader\n",
    "dataset =  xrv.datasets.NIH_Dataset(imgpath=r\"C:/ML_C/CXR8/images\",\n",
    "                                 views=[\"PA\",\"AP\"], unique_patients=False, transform=data_transforms)   "
   ]
  },
  {
   "cell_type": "code",
   "execution_count": null,
   "metadata": {},
   "outputs": [],
   "source": [
    "dataloader = torch.utils.data.DataLoader(dataset, batch_size=8)\n",
    "# Load pre-trained model and erase classifier\n",
    "model = xrv.models.DenseNet(weights=\"densenet121-res224-all\")\n",
    "model.op_threshs = None # prevent pre-trained model calibration\n",
    "model.classifier = torch.nn.Linear(1024,1) # reinitialize classifier\n",
    "\n",
    "optimizer = torch.optim.Adam(model.classifier.parameters()) # only train classifier\n",
    "criterion = torch.nn.BCEWithLogitsLoss()"
   ]
  },
  {
   "cell_type": "code",
   "execution_count": null,
   "metadata": {},
   "outputs": [],
   "source": [
    "# training loop\n",
    "for batch in dataloader:\n",
    "    outputs = model(batch[\"img\"])\n",
    "    targets = batch[\"lab\"][:, dataset.pathologies.index(\"Atelectasis\"), None]\n",
    "    loss = criterion(outputs, targets)\n",
    "    loss.backward()\n",
    "    optimizer.step()"
   ]
  },
  {
   "cell_type": "code",
   "execution_count": null,
   "metadata": {},
   "outputs": [],
   "source": []
  }
 ],
 "metadata": {
  "interpreter": {
   "hash": "1696fff12340fbeacd8891884860ba5d4999e3a236c837e4d2afed27776e33eb"
  },
  "kernelspec": {
   "display_name": "Python 3.9.9 64-bit",
   "language": "python",
   "name": "python3"
  },
  "language_info": {
   "codemirror_mode": {
    "name": "ipython",
    "version": 3
   },
   "file_extension": ".py",
   "mimetype": "text/x-python",
   "name": "python",
   "nbconvert_exporter": "python",
   "pygments_lexer": "ipython3",
   "version": "3.9.9"
  },
  "orig_nbformat": 4
 },
 "nbformat": 4,
 "nbformat_minor": 2
}
